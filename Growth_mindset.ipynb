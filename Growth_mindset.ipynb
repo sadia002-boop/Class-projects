{
 "cells": [
  {
   "cell_type": "markdown",
   "id": "6aaad58c",
   "metadata": {},
   "source": [
    "What Is a Growth Mindset?\n",
    "A growth mindset is the belief that your abilities, intelligence, and talents can be developed through effort, learning, and persistence.\n",
    "\n",
    "🔁 It says: “I’m not there yet, but I can grow.”\n",
    "🚫 Not: “I’m just not good at this.”\n",
    "\n",
    "🔑 Core Principles of Growth Mindset:\n",
    "Fixed Mindset 💭\tGrowth Mindset 💡\n",
    "\"I'm not good at this.\"\t\"I can improve with practice.\"\n",
    "\"I give up easily.\"\t\"Challenges help me grow.\"\n",
    "\"I failed, so I’m a failure.\"\t\"I failed, so I’m learning.\"\n",
    "\"Feedback = criticism.\"\t\"Feedback = a chance to improve.\"\n",
    "\"Effort is pointless.\"\t\"Effort is how I get better.\"\n",
    "🛠️ How to Practice It Daily:\n",
    "Use the word \"yet\" – \"I can't do this yet.\"\n",
    "\n",
    "Celebrate progress, not just results.\n",
    "\n",
    "Ask questions when stuck:\n",
    "🔍 \"What can I learn from this?\"\n",
    "🔁 \"What could I try differently?\"\n",
    "\n",
    "Praise effort, not just intelligence.\n",
    "\n",
    "See challenges as opportunities — discomfort = growth.\n",
    "\n",
    "🌟 Why It Matters:\n",
    "Studies by psychologist Carol Dweck show that people with a growth mindset:\n",
    "\n",
    "Learn faster 📚\n",
    "\n",
    "Are more resilient 💪\n",
    "\n",
    "Handle criticism better 🧠\n",
    "\n",
    "Feel more empowered to grow in any area of life 🌱\n",
    "\n"
   ]
  },
  {
   "cell_type": "code",
   "execution_count": null,
   "id": "abd00bab",
   "metadata": {},
   "outputs": [],
   "source": []
  }
 ],
 "metadata": {
  "language_info": {
   "name": "python"
  }
 },
 "nbformat": 4,
 "nbformat_minor": 5
}
